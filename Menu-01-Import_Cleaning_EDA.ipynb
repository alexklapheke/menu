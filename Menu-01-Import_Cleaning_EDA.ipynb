{
 "cells": [
  {
   "cell_type": "markdown",
   "metadata": {},
   "source": [
    "# Libraries"
   ]
  },
  {
   "cell_type": "code",
   "execution_count": 1,
   "metadata": {},
   "outputs": [],
   "source": [
    "# Data-handling libraries\n",
    "import pandas as pd\n",
    "\n",
    "# Text-handling libraries\n",
    "from nltk.text import Text, TextCollection\n",
    "from nltk.tokenize import RegexpTokenizer\n",
    "from nltk.tag import pos_tag\n",
    "from nltk.stem import WordNetLemmatizer\n",
    "from nltk.probability import FreqDist\n",
    "from nltk.corpus import stopwords\n",
    "from unidecode import unidecode\n",
    "\n",
    "# Other imports\n",
    "import re\n",
    "import matplotlib.pyplot as plt"
   ]
  },
  {
   "cell_type": "code",
   "execution_count": 2,
   "metadata": {},
   "outputs": [],
   "source": [
    "plt.style.reload_library()\n",
    "plt.style.use(\"alex\")"
   ]
  },
  {
   "cell_type": "markdown",
   "metadata": {},
   "source": [
    "# Data Import"
   ]
  },
  {
   "cell_type": "code",
   "execution_count": 3,
   "metadata": {},
   "outputs": [],
   "source": [
    "# Data source: http://menus.nypl.org/data\n",
    "menu = pd.read_csv(\"data/Menu.csv.bz2\")\n",
    "dish = pd.read_csv(\"data/Dish.csv.bz2\")\n",
    "menu_item = pd.read_csv(\"data/MenuItem.csv.bz2\")\n",
    "menu_page = pd.read_csv(\"data/MenuPage.csv.bz2\")"
   ]
  },
  {
   "cell_type": "markdown",
   "metadata": {},
   "source": [
    "# Data Cleaning"
   ]
  },
  {
   "cell_type": "markdown",
   "metadata": {},
   "source": [
    "## Shape data"
   ]
  },
  {
   "cell_type": "code",
   "execution_count": 4,
   "metadata": {},
   "outputs": [],
   "source": [
    "# Add menu id to each menu item\n",
    "df = pd.merge(\n",
    "    menu_item[[\"dish_id\", \"menu_page_id\"]],\n",
    "    menu_page[[\"id\", \"menu_id\"]],\n",
    "    how = \"right\",\n",
    "    left_on = \"menu_page_id\",\n",
    "    right_on = \"id\"\n",
    ")\n",
    "\n",
    "# Add menu date to each menu id\n",
    "df = pd.merge(\n",
    "    df,\n",
    "    menu[[\"id\", \"date\"]],\n",
    "    how = \"right\",\n",
    "    left_on = \"menu_id\",\n",
    "    right_on = \"id\"\n",
    ")\n",
    "\n",
    "# Add dish name to each menu item\n",
    "df = pd.merge(\n",
    "    df,\n",
    "    dish[[\"id\", \"name\"]],\n",
    "    how = \"right\",\n",
    "    left_on = \"dish_id\",\n",
    "    right_on = \"id\"\n",
    ")\n",
    "\n",
    "# Remove intermediate columns\n",
    "df = df[[\"name\", \"date\", \"menu_id\"]]\n",
    "\n",
    "# Delete our original imports to free up memory\n",
    "del menu\n",
    "del dish\n",
    "del menu_item\n",
    "del menu_page"
   ]
  },
  {
   "cell_type": "code",
   "execution_count": 5,
   "metadata": {},
   "outputs": [],
   "source": [
    "# Drop malformed dates\n",
    "df[\"date\"] = pd.to_datetime(df[\"date\"], errors=\"coerce\")"
   ]
  },
  {
   "cell_type": "code",
   "execution_count": 6,
   "metadata": {},
   "outputs": [],
   "source": [
    "# Drop 68438 unknown and 638 malformed dates (≈ 5%)\n",
    "df.dropna(inplace=True)"
   ]
  },
  {
   "cell_type": "code",
   "execution_count": 7,
   "metadata": {},
   "outputs": [],
   "source": [
    "# Calculate year and decade\n",
    "df[\"year\"] = pd.DatetimeIndex(df[\"date\"]).year\n",
    "df[\"decade\"] = df[\"year\"] // 10 * 10"
   ]
  },
  {
   "cell_type": "code",
   "execution_count": 9,
   "metadata": {},
   "outputs": [
    {
     "data": {
      "text/plain": [
       "Text(0, 0.5, 'No. menu items')"
      ]
     },
     "execution_count": 9,
     "metadata": {},
     "output_type": "execute_result"
    },
    {
     "data": {
      "image/png": "[encoded data removed]",
      "text/plain": [
       "<Figure size 216x216 with 1 Axes>"
      ]
     },
     "metadata": {
      "needs_background": "dark"
     },
     "output_type": "display_data"
    }
   ],
   "source": [
    "df[\"name\"].str.len().hist(log=True, grid=False, bins=np.arange(0, 1500, 100), figsize=(3, 3), color=\"C5\", edgecolor=\"#ffffff\");\n",
    "plt.xlabel(\"Length (characters)\")\n",
    "plt.ylabel(\"No. menu items\")"
   ]
  },
  {
   "cell_type": "code",
   "execution_count": 10,
   "metadata": {},
   "outputs": [
    {
     "name": "stdout",
     "output_type": "stream",
     "text": [
      "24868163\n",
      "950963\n"
     ]
    }
   ],
   "source": [
    "print(df[df[\"name\"].str.len() <= 100][\"name\"].str.len().sum())\n",
    "print(df[df[\"name\"].str.len() > 100][\"name\"].str.len().sum())"
   ]
  },
  {
   "cell_type": "markdown",
   "metadata": {},
   "source": [
    "## Replace special characters"
   ]
  },
  {
   "cell_type": "code",
   "execution_count": 11,
   "metadata": {
    "scrolled": false
   },
   "outputs": [],
   "source": [
    "df[\"name\"] = df[\"name\"].apply(unidecode)"
   ]
  },
  {
   "cell_type": "code",
   "execution_count": 12,
   "metadata": {},
   "outputs": [
    {
     "data": {
      "text/html": [
       "<div>\n",
       "<style scoped>\n",
       "    .dataframe tbody tr th:only-of-type {\n",
       "        vertical-align: middle;\n",
       "    }\n",
       "\n",
       "    .dataframe tbody tr th {\n",
       "        vertical-align: top;\n",
       "    }\n",
       "\n",
       "    .dataframe thead th {\n",
       "        text-align: right;\n",
       "    }\n",
       "</style>\n",
       "<table border=\"1\" class=\"dataframe\">\n",
       "  <thead>\n",
       "    <tr style=\"text-align: right;\">\n",
       "      <th></th>\n",
       "      <th>name</th>\n",
       "      <th>date</th>\n",
       "      <th>menu_id</th>\n",
       "      <th>year</th>\n",
       "      <th>decade</th>\n",
       "    </tr>\n",
       "  </thead>\n",
       "  <tbody>\n",
       "  </tbody>\n",
       "</table>\n",
       "</div>"
      ],
      "text/plain": [
       "Empty DataFrame\n",
       "Columns: [name, date, menu_id, year, decade]\n",
       "Index: []"
      ]
     },
     "execution_count": 12,
     "metadata": {},
     "output_type": "execute_result"
    }
   ],
   "source": [
    "# Confirm that we got all non-ASCII characters\n",
    "df[df[\"name\"].str.contains(\"[^\\x00-\\x7F]\")]"
   ]
  },
  {
   "cell_type": "markdown",
   "metadata": {},
   "source": [
    "## Tokenize etc."
   ]
  },
  {
   "cell_type": "code",
   "execution_count": 13,
   "metadata": {},
   "outputs": [],
   "source": [
    "from nltk.tokenize import RegexpTokenizer\n",
    "from nltk.corpus import stopwords\n",
    "\n",
    "tokenizer = RegexpTokenizer(\"[a-z'-]+\")\n",
    "stopwords = set(stopwords.words(\"english\"))\n",
    "\n",
    "def tokenize(text):\n",
    "    tokens = set(tokenizer.tokenize(text))    \n",
    "    return \" \".join(tokens - stopwords)\n",
    "\n",
    "df[\"name\"] = df[\"name\"].str.lower()\n",
    "df[\"tokens\"] = df[\"name\"].apply(tokenize)"
   ]
  },
  {
   "cell_type": "markdown",
   "metadata": {},
   "source": [
    "## Write out cleaned data"
   ]
  },
  {
   "cell_type": "code",
   "execution_count": 14,
   "metadata": {},
   "outputs": [],
   "source": [
    "df.drop(columns=\"date\").to_csv(\"data/Dishes-by-year.csv.bz2\", compression=\"bz2\", index=False)"
   ]
  },
  {
   "cell_type": "markdown",
   "metadata": {},
   "source": [
    "# EDA"
   ]
  },
  {
   "cell_type": "code",
   "execution_count": 15,
   "metadata": {},
   "outputs": [],
   "source": [
    "# For histogram bins\n",
    "decades = range(1850, 2030, 10)"
   ]
  },
  {
   "cell_type": "markdown",
   "metadata": {},
   "source": [
    "## Dates"
   ]
  },
  {
   "cell_type": "code",
   "execution_count": 16,
   "metadata": {},
   "outputs": [
    {
     "data": {
      "text/plain": [
       "[Text(0, 0, ''),\n",
       " Text(0, 0, '100k'),\n",
       " Text(0, 0, '200k'),\n",
       " Text(0, 0, '300k'),\n",
       " Text(0, 0, '400k')]"
      ]
     },
     "execution_count": 16,
     "metadata": {},
     "output_type": "execute_result"
    },
    {
     "data": {
      "image/png": "[encoded data removed]",
      "text/plain": [
       "<Figure size 648x216 with 2 Axes>"
      ]
     },
     "metadata": {
      "needs_background": "dark"
     },
     "output_type": "display_data"
    }
   ],
   "source": [
    "import matplotlib.ticker as mtick\n",
    "\n",
    "fig, (ax1, ax2) = plt.subplots(1, 2, figsize=(9, 3))\n",
    "\n",
    "df.groupby(\"menu_id\").mean()[\"year\"].hist(bins=decades, grid=False, color=\"C0\", edgecolor=\"white\", ax=ax1);\n",
    "ax1.set_xticks(decades[1::2])\n",
    "ax1.set_yticks(range(1000, 7001, 1000))\n",
    "ax1.set_ylabel(\"No. menus\")\n",
    "ax1.yaxis.set_major_formatter(mtick.StrMethodFormatter(\"{x:,.0f}\"))\n",
    "\n",
    "df[\"year\"].hist(bins=decades, grid=False, color=\"C0\", edgecolor=\"white\", ax=ax2);\n",
    "ax2.set_ylabel(\"No. menu items\")\n",
    "ax2.set_xticks(decades[1::2])\n",
    "ax2.set_yticklabels([\"\", \"100k\", \"200k\", \"300k\", \"400k\"])"
   ]
  },
  {
   "cell_type": "markdown",
   "metadata": {},
   "source": [
    "## Menus"
   ]
  },
  {
   "cell_type": "code",
   "execution_count": 17,
   "metadata": {},
   "outputs": [
    {
     "data": {
      "image/png": "[encoded data removed]",
      "text/plain": [
       "<Figure size 720x216 with 1 Axes>"
      ]
     },
     "metadata": {
      "needs_background": "dark"
     },
     "output_type": "display_data"
    }
   ],
   "source": [
    "#plt.title(\"Menu length distribution\", fontsize=20)\n",
    "fig, ax = plt.subplots()\n",
    "df.groupby(\"menu_id\").count()[\"name\"].hist(log=True, grid=False, bins=np.arange(0, 4500, 100), figsize=(10, 3), color=\"C2\", edgecolor=\"white\");\n",
    "plt.xlabel(\"Length (items)\")\n",
    "ax.xaxis.set_label_coords(0.2, -0.15)\n",
    "plt.ylabel(\"No. menus\")\n",
    "plt.xticks(list(np.arange(0, 1600, 200)) + [4000])\n",
    "plt.savefig(\"/home/alex/Documents/Website/alexklapheke.github.io/blog/drafts/menu-item-length.svg\")"
   ]
  },
  {
   "cell_type": "markdown",
   "metadata": {},
   "source": [
    "## Dishes"
   ]
  },
  {
   "cell_type": "code",
   "execution_count": 19,
   "metadata": {},
   "outputs": [
    {
     "data": {
      "image/png": "[encoded data removed]",
      "text/plain": [
       "<Figure size 432x144 with 1 Axes>"
      ]
     },
     "metadata": {
      "needs_background": "light"
     },
     "output_type": "display_data"
    }
   ],
   "source": [
    "plt.rcParams[\"ytick.major.pad\"] = 0\n",
    "plt.rcParams[\"ytick.color\"] = \"#090A0C\"\n",
    "\n",
    "decade = 1850\n",
    "\n",
    "words = \" \".join(df[df[\"decade\"]==decade][\"tokens\"])\n",
    "freqs = pd.Series(words.split())\\\n",
    "        .value_counts()\\\n",
    "        .sort_values()\\\n",
    "        .tail(10)\n",
    "\n",
    "ax = freqs.plot.barh(color=\"C6\", figsize=(6, 2), width=1, edgecolor=\"white\");\n",
    "ax.set_xticks([])\n",
    "\n",
    "# <https://robertmitchellv.com/blog-bar-chart-annotations-pandas-mpl.html>\n",
    "\n",
    "totals = [i.get_width() for i in ax.patches]\n",
    "\n",
    "# set individual bar lables using above list\n",
    "for i in ax.patches:\n",
    "    # get_width pulls left or right; get_y pushes up or down\n",
    "    ax.text(\n",
    "        x = i.get_width() + (freqs.max() / 50),\n",
    "        y = i.get_y() + 0.1,\n",
    "        s = \"{:,}\".format(i.get_width()),\n",
    "        color=\"gray\"\n",
    "    )"
   ]
  },
  {
   "cell_type": "code",
   "execution_count": 22,
   "metadata": {
    "scrolled": false
   },
   "outputs": [],
   "source": [
    "words = {}\n",
    "freqs = {}\n",
    "\n",
    "for decade in range(1850, 2020, 10):\n",
    "    \n",
    "    words[decade] = \" \".join(df[df[\"decade\"]==decade][\"tokens\"])\n",
    "    freqs[decade] = pd.Series(words[decade].split())\\\n",
    "                    .value_counts()\\\n",
    "                    .sort_values()\\\n",
    "                    .tail(10)\n",
    "    \n",
    "# This was supposed to be a frequency line plot against decades... maybe forthcoming"
   ]
  },
  {
   "cell_type": "code",
   "execution_count": 25,
   "metadata": {},
   "outputs": [
    {
     "data": {
      "text/html": [
       "<div>\n",
       "<style scoped>\n",
       "    .dataframe tbody tr th:only-of-type {\n",
       "        vertical-align: middle;\n",
       "    }\n",
       "\n",
       "    .dataframe tbody tr th {\n",
       "        vertical-align: top;\n",
       "    }\n",
       "\n",
       "    .dataframe thead th {\n",
       "        text-align: right;\n",
       "    }\n",
       "</style>\n",
       "<table border=\"1\" class=\"dataframe\">\n",
       "  <thead>\n",
       "    <tr style=\"text-align: right;\">\n",
       "      <th></th>\n",
       "      <th>jell-o</th>\n",
       "      <th>pork</th>\n",
       "      <th>year</th>\n",
       "    </tr>\n",
       "  </thead>\n",
       "  <tbody>\n",
       "    <tr>\n",
       "      <th>0</th>\n",
       "      <td>False</td>\n",
       "      <td>False</td>\n",
       "      <td>1900</td>\n",
       "    </tr>\n",
       "    <tr>\n",
       "      <th>1</th>\n",
       "      <td>False</td>\n",
       "      <td>False</td>\n",
       "      <td>1900</td>\n",
       "    </tr>\n",
       "    <tr>\n",
       "      <th>2</th>\n",
       "      <td>False</td>\n",
       "      <td>False</td>\n",
       "      <td>1906</td>\n",
       "    </tr>\n",
       "    <tr>\n",
       "      <th>3</th>\n",
       "      <td>False</td>\n",
       "      <td>False</td>\n",
       "      <td>1900</td>\n",
       "    </tr>\n",
       "    <tr>\n",
       "      <th>4</th>\n",
       "      <td>False</td>\n",
       "      <td>False</td>\n",
       "      <td>1897</td>\n",
       "    </tr>\n",
       "    <tr>\n",
       "      <th>...</th>\n",
       "      <td>...</td>\n",
       "      <td>...</td>\n",
       "      <td>...</td>\n",
       "    </tr>\n",
       "    <tr>\n",
       "      <th>1328795</th>\n",
       "      <td>False</td>\n",
       "      <td>False</td>\n",
       "      <td>1987</td>\n",
       "    </tr>\n",
       "    <tr>\n",
       "      <th>1328796</th>\n",
       "      <td>False</td>\n",
       "      <td>False</td>\n",
       "      <td>1987</td>\n",
       "    </tr>\n",
       "    <tr>\n",
       "      <th>1328797</th>\n",
       "      <td>False</td>\n",
       "      <td>False</td>\n",
       "      <td>1987</td>\n",
       "    </tr>\n",
       "    <tr>\n",
       "      <th>1328798</th>\n",
       "      <td>False</td>\n",
       "      <td>False</td>\n",
       "      <td>1987</td>\n",
       "    </tr>\n",
       "    <tr>\n",
       "      <th>1328799</th>\n",
       "      <td>False</td>\n",
       "      <td>False</td>\n",
       "      <td>1987</td>\n",
       "    </tr>\n",
       "  </tbody>\n",
       "</table>\n",
       "<p>1273569 rows × 3 columns</p>\n",
       "</div>"
      ],
      "text/plain": [
       "         jell-o   pork  year\n",
       "0         False  False  1900\n",
       "1         False  False  1900\n",
       "2         False  False  1906\n",
       "3         False  False  1900\n",
       "4         False  False  1897\n",
       "...         ...    ...   ...\n",
       "1328795   False  False  1987\n",
       "1328796   False  False  1987\n",
       "1328797   False  False  1987\n",
       "1328798   False  False  1987\n",
       "1328799   False  False  1987\n",
       "\n",
       "[1273569 rows x 3 columns]"
      ]
     },
     "execution_count": 25,
     "metadata": {},
     "output_type": "execute_result"
    }
   ],
   "source": [
    "words = [\"jell-o\", \"pork\"]\n",
    "\n",
    "counts = {word: df[\"tokens\"].str.contains(f\"\\\\b{word}\\\\b\") for word in words}\n",
    "occ = pd.DataFrame(counts).join(df[\"year\"])"
   ]
  },
  {
   "cell_type": "code",
   "execution_count": 21,
   "metadata": {},
   "outputs": [
    {
     "data": {
      "image/png": "[encoded data removed]",
      "text/plain": [
       "<Figure size 432x144 with 1 Axes>"
      ]
     },
     "metadata": {},
     "output_type": "display_data"
    }
   ],
   "source": [
    "plt.rcParams[\"axes.prop_cycle\"] = plt.cycler(color = [\"#e7298a\", \"#66a61e\", \"#e6ab02\", \"#a6761d\", \"#666666\"])\n",
    "\n",
    "words = [\"jell-o\"]\n",
    "\n",
    "counts = {word: df[\"tokens\"].str.contains(f\"\\\\b{word}\\\\b\") for word in words}\n",
    "occ = pd.concat([df[\"year\"], pd.DataFrame(counts)], axis=1)\n",
    "\n",
    "ax = occ.groupby(\"year\").mean().apply(lambda x: x*100).plot(figsize=(6, 2), legend=False)\n",
    "ax.yaxis.set_major_formatter(plt.FormatStrFormatter(\"%g%%\"));\n",
    "ax.set_xlabel(\"\");"
   ]
  },
  {
   "cell_type": "code",
   "execution_count": 164,
   "metadata": {
    "scrolled": false
   },
   "outputs": [
    {
     "ename": "AttributeError",
     "evalue": "module 'matplotlib.pyplot' has no attribute 'density'",
     "output_type": "error",
     "traceback": [
      "\u001b[0;31m---------------------------------------------------------------------------\u001b[0m",
      "\u001b[0;31mAttributeError\u001b[0m                            Traceback (most recent call last)",
      "\u001b[0;32m<ipython-input-164-c0f14e0cfa75>\u001b[0m in \u001b[0;36m<module>\u001b[0;34m\u001b[0m\n\u001b[1;32m     29\u001b[0m         \u001b[0mplt\u001b[0m\u001b[0;34m.\u001b[0m\u001b[0mxticks\u001b[0m\u001b[0;34m(\u001b[0m\u001b[0mdecades\u001b[0m\u001b[0;34m[\u001b[0m\u001b[0;36m1\u001b[0m\u001b[0;34m:\u001b[0m\u001b[0;34m:\u001b[0m\u001b[0;36m2\u001b[0m\u001b[0;34m]\u001b[0m\u001b[0;34m)\u001b[0m\u001b[0;34m\u001b[0m\u001b[0;34m\u001b[0m\u001b[0m\n\u001b[1;32m     30\u001b[0m         \u001b[0mplt\u001b[0m\u001b[0;34m.\u001b[0m\u001b[0mxlim\u001b[0m\u001b[0;34m(\u001b[0m\u001b[0;34m(\u001b[0m\u001b[0;36m1850\u001b[0m\u001b[0;34m,\u001b[0m \u001b[0;36m2020\u001b[0m\u001b[0;34m)\u001b[0m\u001b[0;34m)\u001b[0m\u001b[0;34m\u001b[0m\u001b[0;34m\u001b[0m\u001b[0m\n\u001b[0;32m---> 31\u001b[0;31m         \u001b[0mplt\u001b[0m\u001b[0;34m.\u001b[0m\u001b[0mdensity\u001b[0m\u001b[0;34m(\u001b[0m\u001b[0mprop_menus\u001b[0m\u001b[0;34m,\u001b[0m \u001b[0mlabel\u001b[0m\u001b[0;34m=\u001b[0m\u001b[0mterm\u001b[0m\u001b[0;34m)\u001b[0m\u001b[0;34m\u001b[0m\u001b[0;34m\u001b[0m\u001b[0m\n\u001b[0m\u001b[1;32m     32\u001b[0m \u001b[0;34m\u001b[0m\u001b[0m\n\u001b[1;32m     33\u001b[0m     \u001b[0mplt\u001b[0m\u001b[0;34m.\u001b[0m\u001b[0mlegend\u001b[0m\u001b[0;34m(\u001b[0m\u001b[0;34m)\u001b[0m\u001b[0;34m\u001b[0m\u001b[0;34m\u001b[0m\u001b[0m\n",
      "\u001b[0;31mAttributeError\u001b[0m: module 'matplotlib.pyplot' has no attribute 'density'"
     ]
    },
    {
     "data": {
      "image/png": "[encoded data removed]",
      "text/plain": [
       "<Figure size 432x216 with 1 Axes>"
      ]
     },
     "metadata": {},
     "output_type": "display_data"
    }
   ],
   "source": [
    "plt.rcParams[\"axes.prop_cycle\"] = plt.cycler(color = [\"#e7298a\", \"#66a61e\", \"#e6ab02\", \"#a6761d\", \"#666666\"])\n",
    "\n",
    "for group in [\n",
    "#     [\"chicken\", \"pork\"],\n",
    "#     [\"coffee\", \"tea\"],\n",
    "#     [\"tomato\"],\n",
    "#     [\"vanilla\", \"chocolate\"],\n",
    "#     [\"jell-?o\"],\n",
    "#     [\"cod\", \"salmon\", \"trout\"],\n",
    "#     [\"lobster\"],\n",
    "#     [\"boiled\"],\n",
    "#     [\"fricass[eé]e\"],\n",
    "#     [\"sauce\"],\n",
    "#     [\"reduction\", \"marinated\"],\n",
    "#     [\"soy\", \"tofu\"],\n",
    "#     [\"local\", \"organic\"],\n",
    "#     [\"umami\"],\n",
    "#     [\"macaroni\"],\n",
    "    [\"lobster\"]\n",
    "]:\n",
    "    plt.figure(figsize=(6, 3))\n",
    "    plt.title(\", \".join(group), fontsize=20)\n",
    "\n",
    "    for term in group:\n",
    "        # We want proportions of menus since we have many more from some decades than from others (see above hist)\n",
    "        prop_dishes = df[df[\"name\"].str.contains(term)].groupby(\"decade\").sum() / df.groupby(\"decade\").sum()\n",
    "        prop_menus = df[df[\"name\"].str.contains(term)].groupby(\"decade\").count()[\"menu_id\"] / df.groupby(\"decade\").count()[\"menu_id\"]\n",
    "\n",
    "        plt.xticks(decades[1::2])\n",
    "        plt.xlim((1850, 2020))\n",
    "        plt.plot(prop_menus, label=term)\n",
    "        \n",
    "    plt.legend()\n",
    "    #display(df.groupby(\"decade\").sum())"
   ]
  },
  {
   "cell_type": "code",
   "execution_count": null,
   "metadata": {},
   "outputs": [],
   "source": []
  }
 ],
 "metadata": {
  "kernelspec": {
   "display_name": "Python 3",
   "language": "python",
   "name": "python3"
  },
  "language_info": {
   "codemirror_mode": {
    "name": "ipython",
    "version": 3
   },
   "file_extension": ".py",
   "mimetype": "text/x-python",
   "name": "python",
   "nbconvert_exporter": "python",
   "pygments_lexer": "ipython3",
   "version": "3.6.9"
  },
  "toc": {
   "base_numbering": 1,
   "nav_menu": {},
   "number_sections": true,
   "sideBar": true,
   "skip_h1_title": false,
   "title_cell": "Table of Contents",
   "title_sidebar": "Contents",
   "toc_cell": false,
   "toc_position": {},
   "toc_section_display": true,
   "toc_window_display": true
  },
  "varInspector": {
   "cols": {
    "lenName": 16,
    "lenType": 16,
    "lenVar": 40
   },
   "kernels_config": {
    "python": {
     "delete_cmd_postfix": "",
     "delete_cmd_prefix": "del ",
     "library": "var_list.py",
     "varRefreshCmd": "print(var_dic_list())"
    },
    "r": {
     "delete_cmd_postfix": ") ",
     "delete_cmd_prefix": "rm(",
     "library": "var_list.r",
     "varRefreshCmd": "cat(var_dic_list()) "
    }
   },
   "position": {
    "height": "253.85px",
    "left": "1207px",
    "right": "20px",
    "top": "120px",
    "width": "480.5px"
   },
   "types_to_exclude": [
    "module",
    "function",
    "builtin_function_or_method",
    "instance",
    "_Feature"
   ],
   "window_display": false
  }
 },
 "nbformat": 4,
 "nbformat_minor": 2
}
