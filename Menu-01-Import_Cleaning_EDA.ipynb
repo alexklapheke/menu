{
 "cells": [
  {
   "cell_type": "markdown",
   "metadata": {},
   "source": [
    "# Libraries"
   ]
  },
  {
   "cell_type": "code",
   "execution_count": 40,
   "metadata": {},
   "outputs": [],
   "source": [
    "# Data-handling libraries\n",
    "import pandas as pd\n",
    "\n",
    "# Text-handling libraries\n",
    "from nltk.text import Text, TextCollection\n",
    "from nltk.tokenize import RegexpTokenizer\n",
    "from nltk.probability import FreqDist\n",
    "\n",
    "# Other imports\n",
    "import re"
   ]
  },
  {
   "cell_type": "markdown",
   "metadata": {},
   "source": [
    "# Data Import"
   ]
  },
  {
   "cell_type": "code",
   "execution_count": 3,
   "metadata": {},
   "outputs": [],
   "source": [
    "# Data source: http://menus.nypl.org/data\n",
    "menu = pd.read_csv(\"data/Menu.csv.bz2\")\n",
    "dish = pd.read_csv(\"data/Dish.csv.bz2\")\n",
    "menu_item = pd.read_csv(\"data/MenuItem.csv.bz2\")\n",
    "menu_page = pd.read_csv(\"data/MenuPage.csv.bz2\")"
   ]
  },
  {
   "cell_type": "markdown",
   "metadata": {},
   "source": [
    "# Data Cleaning"
   ]
  },
  {
   "cell_type": "markdown",
   "metadata": {},
   "source": [
    "## Shape data"
   ]
  },
  {
   "cell_type": "code",
   "execution_count": 4,
   "metadata": {},
   "outputs": [],
   "source": [
    "# Merge datasets \n",
    "df = pd.merge(\n",
    "    menu_item[[\"dish_id\", \"menu_page_id\"]],\n",
    "    menu_page[[\"id\", \"menu_id\"]],\n",
    "    how = \"right\",\n",
    "    left_on = \"menu_page_id\",\n",
    "    right_on = \"id\"\n",
    ")\n",
    "df = pd.merge(\n",
    "    df,\n",
    "    menu[[\"id\", \"date\"]],\n",
    "    how = \"right\",\n",
    "    left_on = \"menu_id\",\n",
    "    right_on = \"id\"\n",
    ")\n",
    "df = pd.merge(\n",
    "    df,\n",
    "    dish[[\"id\", \"name\"]],\n",
    "    how = \"right\",\n",
    "    left_on = \"dish_id\",\n",
    "    right_on = \"id\"\n",
    ")\n",
    "\n",
    "df = df[[\"name\", \"date\"]]\n",
    "\n",
    "# Delete our original imports to free up memory\n",
    "del menu\n",
    "del dish\n",
    "del menu_item\n",
    "del menu_page"
   ]
  },
  {
   "cell_type": "code",
   "execution_count": 5,
   "metadata": {},
   "outputs": [],
   "source": [
    "# Drop malformed dates\n",
    "df[\"date\"] = pd.to_datetime(df[\"date\"], errors=\"coerce\")"
   ]
  },
  {
   "cell_type": "code",
   "execution_count": 6,
   "metadata": {},
   "outputs": [],
   "source": [
    "# Drop 68438 unknown and 638 malformed dates (≈ 5%)\n",
    "df.dropna(inplace=True)"
   ]
  },
  {
   "cell_type": "code",
   "execution_count": 7,
   "metadata": {},
   "outputs": [],
   "source": [
    "# Calculate year and decade\n",
    "df[\"year\"] = pd.DatetimeIndex(df[\"date\"]).year\n",
    "df[\"decade\"] = np.round(df[\"year\"], -1)"
   ]
  },
  {
   "cell_type": "markdown",
   "metadata": {},
   "source": [
    "## Replace special characters"
   ]
  },
  {
   "cell_type": "code",
   "execution_count": 8,
   "metadata": {},
   "outputs": [],
   "source": [
    "# Fractions\n",
    "df[\"name\"] = df[\"name\"].str.replace(\"[½]\", '1/2')\n",
    "\n",
    "# Curly quotes\n",
    "df[\"name\"] = df[\"name\"].str.replace(\"[“”„]\", '\"')\n",
    "\n",
    "# Letters with diacricics\n",
    "# df[\"name\"] = df[\"name\"].str.replace(\"[Ää]\",   \"ae\")\n",
    "# df[\"name\"] = df[\"name\"].str.replace(\"[Éèéê]\", \"e\")\n",
    "# df[\"name\"] = df[\"name\"].str.replace(\"[Îï]\",   \"i\")\n",
    "# df[\"name\"] = df[\"name\"].str.replace(\"[Öö]\",   \"oe\")\n",
    "# df[\"name\"] = df[\"name\"].str.replace(\"[Ü]\",    \"ue\")\n",
    "# df[\"name\"] = df[\"name\"].str.replace(\"[ß]\",    \"ss\")\n",
    "# df[\"name\"] = df[\"name\"].str.replace(\"[àáâå]\", \"a\")\n",
    "# df[\"name\"] = df[\"name\"].str.replace(\"[ç]\",    \"c\")\n",
    "# df[\"name\"] = df[\"name\"].str.replace(\"[óø]\",   \"o\")\n",
    "# df[\"name\"] = df[\"name\"].str.replace(\"[û]\",    \"u\")\n",
    "# df[\"name\"] = df[\"name\"].str.replace(\"[Œœ]\",   \"oe\")\n",
    "# df[\"name\"] = df[\"name\"].str.replace(\"[Śś]\",   \"s\")\n",
    "# df[\"name\"] = df[\"name\"].str.replace(\"[ź]\",    \"z\")"
   ]
  },
  {
   "cell_type": "code",
   "execution_count": 9,
   "metadata": {},
   "outputs": [],
   "source": [
    "# Foreign scripts can be REALLY hard to work with, so we drop them\n",
    "\n",
    "# Greek\n",
    "df = df[~df[\"name\"].str.contains(\"[ΑΓΔΕΖΘΙΚΛΜΝΟΠΣΤΥΧΨΩάίαγδεηθιλνξοπρςστυχωϊό]\")]\n",
    "\n",
    "# Devanagari\n",
    "df = df[~df[\"name\"].str.contains(\"[ईककीकोखगीचचाचेजजिणतताथथॅददादुदूननंनानीनूपपाबाबीभोमैररीललालीलूलेळवाशीशुससीसोहिं१२३४७]\")]\n",
    "\n",
    "# Han\n",
    "df = df[~df[\"name\"].str.contains(\"[丁三上串五什仁保公冬包半卷司吐吞哲大夫子宫尾巴廣手抄拌排春景會木東松果栗檬檸水油洋海涼清湯火炒炸烤煙燒爆片牛玉瓜白磨竹米紅素紫絲绦翅肉肚腐腰腿芥花茸菇菜蔴蘭蛋蝦西豆貼賓辣酸醉醬鍋雙雞雲青須餃香骨魚鮑鮮鳳鴨鷄鹹麵]\")]"
   ]
  },
  {
   "cell_type": "code",
   "execution_count": null,
   "metadata": {},
   "outputs": [],
   "source": [
    "# Confirm that we got all non-ASCII characters\n",
    "# df[df[\"name\"].str.contains(\"[^\\x00-\\x7F]\")]"
   ]
  },
  {
   "cell_type": "markdown",
   "metadata": {},
   "source": [
    "## Tokenize etc."
   ]
  },
  {
   "cell_type": "code",
   "execution_count": 36,
   "metadata": {},
   "outputs": [],
   "source": [
    "def cleanText(text):\n",
    "    tok = RegexpTokenizer(\"[a-z'-]+\")\n",
    "    return \" \".join(tok.tokenize(text.lower()))\n",
    "\n",
    "df[\"name\"] = df[\"name\"].apply(cleanText)\n",
    "\n",
    "# Drop any names that got removed completely\n",
    "df = df[df[\"name\"] != \"\"]"
   ]
  },
  {
   "cell_type": "markdown",
   "metadata": {},
   "source": [
    "## Write out cleaned data"
   ]
  },
  {
   "cell_type": "code",
   "execution_count": 37,
   "metadata": {},
   "outputs": [],
   "source": [
    "df.drop(columns=\"date\").to_csv(\"data/Dishes-by-year.csv.bz2\", compression=\"bz2\", index=False)"
   ]
  },
  {
   "cell_type": "markdown",
   "metadata": {},
   "source": [
    "# EDA"
   ]
  },
  {
   "cell_type": "markdown",
   "metadata": {},
   "source": [
    "## Dates"
   ]
  },
  {
   "cell_type": "code",
   "execution_count": 14,
   "metadata": {},
   "outputs": [
    {
     "data": {
      "image/png": "[encoded data removed]",
      "text/plain": [
       "<matplotlib.figure.Figure at 0x7f147aa7a3c8>"
      ]
     },
     "metadata": {},
     "output_type": "display_data"
    }
   ],
   "source": [
    "df[\"year\"].hist(bins=18); # 18 decades are represented"
   ]
  },
  {
   "cell_type": "markdown",
   "metadata": {},
   "source": [
    "## Dishes"
   ]
  },
  {
   "cell_type": "code",
   "execution_count": 42,
   "metadata": {},
   "outputs": [
    {
     "data": {
      "image/png": "[encoded data removed]",
      "text/plain": [
       "<matplotlib.figure.Figure at 0x7f1468d52128>"
      ]
     },
     "metadata": {},
     "output_type": "display_data"
    },
    {
     "data": {
      "text/plain": [
       "<matplotlib.axes._subplots.AxesSubplot at 0x7f14634206a0>"
      ]
     },
     "execution_count": 42,
     "metadata": {},
     "output_type": "execute_result"
    }
   ],
   "source": [
    "#FreqDist(TextCollection(df[\"name\"].str.split())).plot();\n",
    "FreqDist(TextCollection([]))"
   ]
  },
  {
   "cell_type": "code",
   "execution_count": null,
   "metadata": {},
   "outputs": [],
   "source": []
  }
 ],
 "metadata": {
  "kernelspec": {
   "display_name": "Python 3",
   "language": "python",
   "name": "python3"
  },
  "toc": {
   "base_numbering": 1,
   "nav_menu": {},
   "number_sections": true,
   "sideBar": true,
   "skip_h1_title": false,
   "title_cell": "Table of Contents",
   "title_sidebar": "Contents",
   "toc_cell": false,
   "toc_position": {},
   "toc_section_display": true,
   "toc_window_display": true
  },
  "varInspector": {
   "cols": {
    "lenName": 16,
    "lenType": 16,
    "lenVar": 40
   },
   "kernels_config": {
    "python": {
     "delete_cmd_postfix": "",
     "delete_cmd_prefix": "del ",
     "library": "var_list.py",
     "varRefreshCmd": "print(var_dic_list())"
    },
    "r": {
     "delete_cmd_postfix": ") ",
     "delete_cmd_prefix": "rm(",
     "library": "var_list.r",
     "varRefreshCmd": "cat(var_dic_list()) "
    }
   },
   "types_to_exclude": [
    "module",
    "function",
    "builtin_function_or_method",
    "instance",
    "_Feature"
   ],
   "window_display": false
  }
 },
 "nbformat": 4,
 "nbformat_minor": 2
}
